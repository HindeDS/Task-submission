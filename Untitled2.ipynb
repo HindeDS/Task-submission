{
 "cells": [
  {
   "cell_type": "code",
   "execution_count": 2,
   "metadata": {},
   "outputs": [
    {
     "name": "stdout",
     "output_type": "stream",
     "text": [
      "Veuillez saisir un nombre :Z\n",
      "La valeur entrée n'est pas valide\n",
      "Veuillez recommencer s'il vous plait:4\n",
      "4.0\n"
     ]
    }
   ],
   "source": [
    "try:\n",
    "    val =float(input(\"Veuillez saisir un nombre :\"))\n",
    "except ValueError:\n",
    "    print(\"La valeur entrée n'est pas valide\")\n",
    "    val = float(input(\"Veuillez recommencer s'il vous plait:\"))\n",
    "print(val)"
   ]
  }
 ],
 "metadata": {
  "kernelspec": {
   "display_name": "Python 3",
   "language": "python",
   "name": "python3"
  },
  "language_info": {
   "codemirror_mode": {
    "name": "ipython",
    "version": 3
   },
   "file_extension": ".py",
   "mimetype": "text/x-python",
   "name": "python",
   "nbconvert_exporter": "python",
   "pygments_lexer": "ipython3",
   "version": "3.7.6"
  }
 },
 "nbformat": 4,
 "nbformat_minor": 4
}
